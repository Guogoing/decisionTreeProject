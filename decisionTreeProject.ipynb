{
 "cells": [
  {
   "attachments": {},
   "cell_type": "markdown",
   "metadata": {},
   "source": [
    "说明：\n",
    "1. 文件格式：ipynb\n",
    "2. 运行环境：python3.10.2\n",
    "3. 引入第三方库：pandas、sklearn、matplotlib"
   ]
  },
  {
   "attachments": {},
   "cell_type": "markdown",
   "metadata": {},
   "source": [
    "项目:用决策树模型进行预测\n",
    "***\n",
    "* [一 .数据预处理](#一.数据预处理)\n",
    "   * [1.1 数据读取](#1.1-数据读取)\n",
    "   * [1.2 正则提取](#1.2-正则提取)\n",
    "   * [1.3 缺失值处理](#1.3-缺失值处理)\n",
    "   * [1.4 数据类型转换](#1.4-数据类型转换)\n",
    "   * [1.5 描述性统计](#1.5-描述性统计)\n",
    "   * [1.5 数据转换](#1.4-数据转换)\n",
    "   * [1.6 异常值检测](#1.5-异常值检测)\n",
    "\n",
    "***\n",
    "* [二.建立决策树模型](#二.建立决策树模型)\n",
    "   * [2.1 划分训练集和测试集](#2.1-划分训练集和测试集)\n",
    "   * [2.2 建立分类树](#2.2-建立分类树)\n",
    "   * [2.3 参数调优](#2.3-参数调优)\n",
    "\n",
    "***\n",
    "* [三.模型评价](#三.模型评价)\n",
    "   * [3.1 K折交叉验证](#3.1-K折交叉验证)\n",
    "   * [3.2 ROC曲线](#3.2-ROC曲线)\n",
    "   * [3.3 混淆矩阵](#3.3-混淆矩阵)\n",
    "   "
   ]
  },
  {
   "attachments": {},
   "cell_type": "markdown",
   "metadata": {},
   "source": [
    "### 一.数据预处理"
   ]
  },
  {
   "attachments": {},
   "cell_type": "markdown",
   "metadata": {},
   "source": [
    "#### 1.1 数据读取"
   ]
  },
  {
   "cell_type": "code",
   "execution_count": null,
   "metadata": {},
   "outputs": [],
   "source": [
    "import pandas as pd \n",
    "# 定义路径，便于数据读取和保存\n",
    "path = \"/Users/guojing/Desktop/\"\n",
    "# 导入数据\n",
    "df = pd.read_excel(path+\"house.xlsx\",sheet_name=0)"
   ]
  },
  {
   "cell_type": "code",
   "execution_count": null,
   "metadata": {},
   "outputs": [],
   "source": [
    "# 观察数据结构\n",
    "df.head()"
   ]
  },
  {
   "cell_type": "code",
   "execution_count": null,
   "metadata": {},
   "outputs": [],
   "source": [
    "#观察第一行、第一列的数据结构，便于正则提取\n",
    "df.iloc[0,0]"
   ]
  },
  {
   "attachments": {},
   "cell_type": "markdown",
   "metadata": {},
   "source": [
    "#### 1.2正则提取\n",
    "说明： 在观察数据结构后，提取以下信息：\n",
    "1. 在第一列中提取卧室数量、客厅数量、建筑面积、层高、朝向、建造年份 四类数据\n",
    "2. 在第三列提取折扣信息\n",
    "3. 在第四列提取价格信息\n",
    "4. 不提取第五列的每平方米单价信息：原因：信息重复：建筑面积*每平方米单价=价格"
   ]
  },
  {
   "cell_type": "code",
   "execution_count": null,
   "metadata": {},
   "outputs": [],
   "source": [
    "#1.运用了正则表达式提取数据\n",
    "#2.expend = False ,说明提取格式为Series不是DataFrame：原因：便于后续创建新的DataFrame\n",
    "re1 = df.all_infro\n",
    "bedroom = re1.str.extract(r'(\\d+(?=室))',expand=False)\n",
    "livingRoom = re1.str.extract(r'(\\d(?=厅))',expand=False)\n",
    "storey = re1.str.extract(r'(\\w层)',expand=False)\n",
    "area = re1.str.extract(r'(\\d+\\.?\\d+(?=㎡))',expand=False)\n",
    "orientation = re1.str.extract(r'(\\w+向)',expand=False)\n",
    "constructionTime = re1.str.extract(r'(\\d+(?=年))',expand=False)\n",
    "discount = df['discount']\n",
    "price = df['price'].str.extract(r'(\\d+\\.?\\d+)',expand=False)"
   ]
  },
  {
   "attachments": {},
   "cell_type": "markdown",
   "metadata": {},
   "source": [
    "#### 1.3 缺失值处理\n"
   ]
  },
  {
   "cell_type": "code",
   "execution_count": null,
   "metadata": {},
   "outputs": [],
   "source": [
    "# 创建新的DataFrame\n",
    "df2 = pd.DataFrame({\n",
    "    'bedroom': bedroom ,\n",
    "    'livingRoom' : livingRoom ,\n",
    "    'storey' : storey ,\n",
    "    'area' : area ,\n",
    "    'orientation' : orientation ,\n",
    "    'constructionTime' : constructionTime ,\n",
    "    'discount' : discount ,\n",
    "    'price' : price\n",
    "} \n",
    ")"
   ]
  },
  {
   "cell_type": "code",
   "execution_count": null,
   "metadata": {},
   "outputs": [],
   "source": [
    "#观察新创建的表单结构\n",
    "df2.head()"
   ]
  },
  {
   "cell_type": "code",
   "execution_count": null,
   "metadata": {},
   "outputs": [],
   "source": [
    "# 将缺少bedroom的数据删除\n",
    "df2.dropna(subset=['bedroom'],inplace=True)\n",
    "#用中位数填充constructionTime；用0填充未知的discount\n",
    "df2.fillna({'constructionTime' : df2.constructionTime.median(),\n",
    "            'discount': 0 },inplace=True)"
   ]
  },
  {
   "cell_type": "code",
   "execution_count": null,
   "metadata": {},
   "outputs": [],
   "source": [
    "#重新观察缺失值\n",
    "df2.info()"
   ]
  },
  {
   "attachments": {},
   "cell_type": "markdown",
   "metadata": {},
   "source": [
    "#### 1.4 数据类型转换\n",
    "说明：\n",
    "1. 缺失值填充一定在数据类型转换之前，因为数据类型转换时不能有缺失值；\n",
    "2. 若要在缺失值填充之进行数据类型转换，可将数据保存为其他格式，重新读取数据，pandas自动进行数据类型转换。"
   ]
  },
  {
   "cell_type": "code",
   "execution_count": null,
   "metadata": {},
   "outputs": [],
   "source": [
    "df2 = df2.astype(dtype={'bedroom':'int16',\n",
    "                  'livingRoom':'int16',\n",
    "                  'area':'float',\n",
    "                  'constructionTime': 'int16',\n",
    "                  'price':'float',\n",
    "                  'discount':'str',\n",
    "                  'orientation':'str'\n",
    "                  })"
   ]
  },
  {
   "cell_type": "code",
   "execution_count": null,
   "metadata": {},
   "outputs": [],
   "source": [
    "df2.info()"
   ]
  },
  {
   "cell_type": "code",
   "execution_count": null,
   "metadata": {},
   "outputs": [],
   "source": [
    "# map函数不能单独在单元格内重复运行\n",
    "df2.storey  = df2.storey.map({'底层':1,'低层':2,'中层':3,'高层':4,'顶层':5} )"
   ]
  },
  {
   "cell_type": "code",
   "execution_count": null,
   "metadata": {},
   "outputs": [],
   "source": [
    "df2.orientation.unique()"
   ]
  },
  {
   "cell_type": "code",
   "execution_count": null,
   "metadata": {},
   "outputs": [],
   "source": [
    "df2.orientation = df2.orientation.map({'南北向':1, '南向':2, '东向':3, '西南向':4, '北向':5, '东南向':6, '东北向':7, '西向':8, '西北向':9, '东西向':10})"
   ]
  },
  {
   "cell_type": "code",
   "execution_count": null,
   "metadata": {},
   "outputs": [],
   "source": [
    "df2.discount.unique()"
   ]
  },
  {
   "cell_type": "code",
   "execution_count": null,
   "metadata": {},
   "outputs": [],
   "source": [
    "df2.discount = df2.discount.map({'满五' :3 , '满二':2 , '0' :1 ,'配套成熟' :4})"
   ]
  },
  {
   "cell_type": "code",
   "execution_count": null,
   "metadata": {},
   "outputs": [],
   "source": [
    "df2.area = (df2.area - df2.area.min())/(df2.area.max()-df2.area.min())"
   ]
  },
  {
   "attachments": {},
   "cell_type": "markdown",
   "metadata": {},
   "source": [
    "#### 1.5 描述性统计处理"
   ]
  },
  {
   "cell_type": "code",
   "execution_count": null,
   "metadata": {},
   "outputs": [],
   "source": [
    "df2.describe()"
   ]
  },
  {
   "cell_type": "code",
   "execution_count": null,
   "metadata": {},
   "outputs": [],
   "source": [
    "#定义新变量：目的：便于观察唯一值\n",
    "x = df2.columns\n",
    "print(x)"
   ]
  },
  {
   "cell_type": "code",
   "execution_count": null,
   "metadata": {},
   "outputs": [],
   "source": [
    "df2[x[0]].value_counts()"
   ]
  },
  {
   "cell_type": "code",
   "execution_count": null,
   "metadata": {},
   "outputs": [],
   "source": [
    "df2[x[1]].value_counts()"
   ]
  },
  {
   "cell_type": "code",
   "execution_count": null,
   "metadata": {},
   "outputs": [],
   "source": [
    "#livingroom中有0值，通过索引查看原始数据，查看是否有误\n",
    "#1.获取索引\n",
    "y = df2.query('livingRoom == 0').index\n",
    "#2.查看原始数据\n",
    "df.iloc[y,:]"
   ]
  },
  {
   "cell_type": "code",
   "execution_count": null,
   "metadata": {},
   "outputs": [],
   "source": [
    "df2[x[2]].value_counts()"
   ]
  },
  {
   "cell_type": "code",
   "execution_count": null,
   "metadata": {},
   "outputs": [],
   "source": [
    "df2[x[4]].value_counts()"
   ]
  },
  {
   "cell_type": "code",
   "execution_count": null,
   "metadata": {},
   "outputs": [],
   "source": [
    "df2[x[5]].unique()"
   ]
  },
  {
   "cell_type": "code",
   "execution_count": null,
   "metadata": {},
   "outputs": [],
   "source": [
    "df2[x[6]].value_counts()"
   ]
  },
  {
   "cell_type": "code",
   "execution_count": null,
   "metadata": {},
   "outputs": [],
   "source": [
    "#由于在discount中“配套成熟“的数据量太少，不具有代表性，因此删除\n",
    "#删除方法1:生成新Dataframe\n",
    "data = df2.query('discount != 4 ')\n",
    "\n",
    "#删除方法2: 直接在原Dataframe上删除\n",
    "#index1 = df2.query('discount = \"配套成熟\" ').index\n",
    "#df2.drop(index=index1,inplace=True)"
   ]
  },
  {
   "cell_type": "code",
   "execution_count": null,
   "metadata": {},
   "outputs": [],
   "source": [
    "data.discount.value_counts()"
   ]
  },
  {
   "cell_type": "code",
   "execution_count": null,
   "metadata": {},
   "outputs": [],
   "source": [
    "data.columns"
   ]
  },
  {
   "cell_type": "code",
   "execution_count": null,
   "metadata": {},
   "outputs": [],
   "source": [
    "# 观察其他类型变量与价格之间的关系：\n",
    "import matplotlib.pyplot as plt\n",
    "fig = plt.figure()\n",
    "x = data.columns \n",
    "for i in range(0,4,1) :\n",
    "    plt.subplot(2,2,i+1)\n",
    "    plt.scatter(data[x[i]],data[x[7]])\n",
    "    plt.title(x[i])\n",
    "    plt.subplots_adjust(hspace = 0.3)\n",
    "fig = plt.figure()\n",
    "for i in range(4,7,1) :\n",
    "    plt.subplot(2,2,i-3)\n",
    "    plt.scatter(data[x[i]],data[x[7]])\n",
    "    plt.title(x[i])\n",
    "    plt.subplots_adjust(hspace = 0.3) \n"
   ]
  },
  {
   "attachments": {},
   "cell_type": "markdown",
   "metadata": {},
   "source": [
    "从散点图中初步分析：\n",
    "1. 价格与卧室数量：\n",
    "* 价格随着卧室数量增加而增加，在卧室数量为6时达到最大，\n",
    "* 在8、9之间下降，但由于卧室数量为8、9个的数据量只有3个，因此结论极有可能不准确。\n",
    "2. 价格与客厅数量：\n",
    "* 价格随客厅数量增加而增加，在卧室数量为2时达到最大，随后下降。\n",
    "3. 价格与层高：\n",
    "* 近似无关；\n",
    "* 可能原因：数据划分过于粗略；\n",
    "* 改进方向：可根据层数与层高中心划分；\n",
    "* 例子：根据常识：层数时少时底层价格高，层数多时低层价格低。\n",
    "4. 价格与面积\n",
    "* 近似正相关；\n",
    "5. 价格与朝向：\n",
    "* 房子数量集中在南北向、南向，\n",
    "* 高价格的房子也集中南北向、南向；\n",
    "6. 价格与时间：\n",
    "* 时间越近，房子数量越多，高价格房子也越多。\n",
    "7. 价格与优惠\n",
    "* 近似无关；\n",
    "* 可能原因：优惠越多，说明房子有人居住时间越长，有利与不利因素相互抵消。"
   ]
  },
  {
   "attachments": {},
   "cell_type": "markdown",
   "metadata": {},
   "source": [
    "### 二.建立决策树模型\n",
    "#### 2.1 划分训练集和测试集"
   ]
  },
  {
   "cell_type": "code",
   "execution_count": null,
   "metadata": {},
   "outputs": [],
   "source": [
    "#由于要建立决策树二分类模型，因此需先将价格划分为二分类变量，\n",
    "def priceSplit(x) :\n",
    "    if x <=  250:\n",
    "        x = 0\n",
    "    else :\n",
    "        x = 1\n",
    "    return x \n",
    "data.price = data.price.map(priceSplit)\n",
    "data.price.value_counts()"
   ]
  },
  {
   "cell_type": "code",
   "execution_count": null,
   "metadata": {},
   "outputs": [],
   "source": [
    "#选出属性和标签，将其划分为训练集和测试集\n",
    "from sklearn.model_selection import train_test_split\n",
    "X = data.drop('price',axis=1)\n",
    "Y = data.price\n",
    "X_train, X_test, Y_train, Y_test = train_test_split(X,Y,test_size = 0.5)"
   ]
  },
  {
   "attachments": {},
   "cell_type": "markdown",
   "metadata": {},
   "source": [
    "#### 2.2 建立分类树"
   ]
  },
  {
   "cell_type": "code",
   "execution_count": null,
   "metadata": {},
   "outputs": [],
   "source": [
    "#模型初步训练与评价\n",
    "from sklearn import tree\n",
    "model =tree.DecisionTreeClassifier()\n",
    "model.fit(X_train,Y_train)\n",
    "from sklearn.metrics import roc_auc_score\n",
    "score1 = roc_auc_score(Y_test,model.predict_proba(X_test)[:,1])\n",
    "score2 = model.score(X_test,Y_test)\n",
    "print(score1,score2)"
   ]
  },
  {
   "attachments": {},
   "cell_type": "markdown",
   "metadata": {},
   "source": [
    "#### 2.3 参数调优"
   ]
  },
  {
   "cell_type": "code",
   "execution_count": null,
   "metadata": {},
   "outputs": [],
   "source": [
    "# 参数调优：\n",
    "from sklearn import tree\n",
    "from sklearn.model_selection import GridSearchCV\n",
    "parameters = {'max_depth': range(3,20,1),'criterion':['gini','entory'],'min_samples_leaf':range(5,20,1)}\n",
    "grid_search = GridSearchCV(model,parameters,scoring='roc_auc',cv=5)\n",
    "grid_search.fit(X_train,Y_train)\n",
    "grid_search.best_params_"
   ]
  },
  {
   "cell_type": "code",
   "execution_count": null,
   "metadata": {},
   "outputs": [],
   "source": [
    "#参数调优后重新建模并评价模型\n",
    "modelBest= tree.DecisionTreeClassifier(max_depth=3,criterion='gini',min_samples_leaf=17)\n",
    "modelBest.fit(X_train,Y_train)\n",
    "s1 = modelBest.score(X_train,Y_train)\n",
    "s2 = modelBest.score(X_test,Y_test)\n",
    "s3 = roc_auc_score(Y_test,modelBest.predict_proba(X_test)[:,1])\n",
    "print(s1,s2,s3)"
   ]
  },
  {
   "attachments": {},
   "cell_type": "markdown",
   "metadata": {},
   "source": [
    "#### 3.1 ROC曲线"
   ]
  },
  {
   "cell_type": "code",
   "execution_count": null,
   "metadata": {},
   "outputs": [],
   "source": [
    "#建立SVM模型\n",
    "from sklearn.svm import SVC\n",
    "clf = SVC(probability= True)\n",
    "clf.fit(X_train,Y_train)"
   ]
  },
  {
   "cell_type": "code",
   "execution_count": null,
   "metadata": {},
   "outputs": [],
   "source": [
    "### 将参数调优后的决策树二分类模型与SVM模型使用ROC曲线进行比较\n",
    "import matplotlib.pyplot as plt\n",
    "from sklearn.metrics import roc_curve\n",
    "fig = plt.figure()\n",
    "fpr1,tpr1, thresholds1 = roc_curve(Y_test,modelBest.predict_proba(X_test)[:,1])\n",
    "plt.plot(fpr1,tpr1,label='Tree',linestyle = '--')\n",
    "plt.legend()\n",
    "fpr2,tpr2, thresholds2 = roc_curve(Y_test,clf.predict_proba(X_test)[:,1])\n",
    "plt.plot(fpr2,tpr2,label='SVM',c='red')\n",
    "plt.legend()\n",
    "plt.xlabel('FPR')\n",
    "plt.ylabel('TPR')\n",
    "plt.title(r\"$Receiver\\ operating\\ characteristic\\ example$\")"
   ]
  },
  {
   "cell_type": "code",
   "execution_count": null,
   "metadata": {},
   "outputs": [],
   "source": [
    "#两个模型评价\n",
    "from sklearn.metrics import roc_auc_score\n",
    "roc1 = roc_auc_score(Y_test,modelBest.predict_proba(X_test)[:,1])\n",
    "roc2 = roc_auc_score(Y_test,clf.predict_proba(X_test)[:,1])\n",
    "print(roc1,roc2)"
   ]
  },
  {
   "attachments": {},
   "cell_type": "markdown",
   "metadata": {},
   "source": [
    "### 3.2 N重交叉验证"
   ]
  },
  {
   "cell_type": "code",
   "execution_count": null,
   "metadata": {},
   "outputs": [],
   "source": [
    "#k折交叉验证：\n",
    "from sklearn.model_selection import cross_val_score\n",
    "acc = cross_val_score(modelBest,X,Y,cv=5,scoring='roc_auc')\n",
    "print(acc)"
   ]
  },
  {
   "attachments": {},
   "cell_type": "markdown",
   "metadata": {},
   "source": [
    "#### 3.3 混淆矩阵"
   ]
  },
  {
   "cell_type": "code",
   "execution_count": null,
   "metadata": {},
   "outputs": [],
   "source": [
    "#混淆矩阵\n",
    "from sklearn.metrics import confusion_matrix\n",
    "Y_Pred = model.predict(X_test)\n",
    "c= confusion_matrix(Y_test, Y_Pred)\n",
    "print(c)"
   ]
  },
  {
   "attachments": {},
   "cell_type": "markdown",
   "metadata": {},
   "source": [
    "结果解读：\n",
    "\n",
    "\n",
    "在参数调优后，使用训练集建立相对最优模型，使用测试集进行预测，通过观察混淆矩阵，我我们可以得到预测结果：\n",
    "1. 在1442（1368+74）个负例中，预测正确的概率为：94.9%\n",
    "2. 259（89+170）个正例中，预测正确的概率为：65.64%\n",
    "\n",
    "\n",
    "模型还有较大改进空间。"
   ]
  }
 ],
 "metadata": {
  "kernelspec": {
   "display_name": "Python 3",
   "language": "python",
   "name": "python3"
  },
  "language_info": {
   "codemirror_mode": {
    "name": "ipython",
    "version": 3
   },
   "file_extension": ".py",
   "mimetype": "text/x-python",
   "name": "python",
   "nbconvert_exporter": "python",
   "pygments_lexer": "ipython3",
   "version": "3.10.2"
  },
  "orig_nbformat": 4
 },
 "nbformat": 4,
 "nbformat_minor": 2
}
